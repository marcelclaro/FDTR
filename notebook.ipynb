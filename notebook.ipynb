{
 "cells": [
  {
   "cell_type": "code",
   "execution_count": 1,
   "id": "6724fdbf-d9c3-4d81-8fcc-3ea0062aed8b",
   "metadata": {},
   "outputs": [],
   "source": [
    "from sympy import init_printing\n",
    "import numpy as np\n",
    "from pyFDTR.domain import *\n",
    "from pyFDTR.materials import *\n",
    "from pyFDTR.fouriermodel import *\n",
    "\n",
    "\n",
    "domain = Domain(80)\n",
    "domain.add_substrate(sapphire)\n",
    "domain.add_layer(20e-9,gold)\n",
    "\n",
    "model = FourierModelFDTR(domain,4e-6,4e-6)\n"
   ]
  },
  {
   "cell_type": "code",
   "execution_count": 2,
   "id": "6b8f5e2a",
   "metadata": {},
   "outputs": [],
   "source": [
    "model.get_phase(5.5e6)"
   ]
  },
  {
   "cell_type": "code",
   "execution_count": null,
   "id": "737ac41b",
   "metadata": {},
   "outputs": [],
   "source": []
  }
 ],
 "metadata": {
  "kernelspec": {
   "display_name": "Python 3.10.4 64-bit",
   "language": "python",
   "name": "python3"
  },
  "language_info": {
   "codemirror_mode": {
    "name": "ipython",
    "version": 3
   },
   "file_extension": ".py",
   "mimetype": "text/x-python",
   "name": "python",
   "nbconvert_exporter": "python",
   "pygments_lexer": "ipython3",
   "version": "3.10.4"
  },
  "vscode": {
   "interpreter": {
    "hash": "916dbcbb3f70747c44a77c7bcd40155683ae19c65e1c03b4aa3499c5328201f1"
   }
  }
 },
 "nbformat": 4,
 "nbformat_minor": 5
}
