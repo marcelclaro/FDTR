{
 "cells": [
  {
   "cell_type": "code",
   "execution_count": 1,
   "id": "6724fdbf-d9c3-4d81-8fcc-3ea0062aed8b",
   "metadata": {},
   "outputs": [
    {
     "name": "stdout",
     "output_type": "stream",
     "text": [
      "{'thickness': 0.001, 'temperature': 110, 'material': <pyFDTR.materials.sapphire object at 0x7f90987a45b0>, 'cp': 647554.4367, 'density': 3970000.0, 'kt': 302.53018800775055, 'kp': 302.53018800775055}\n",
      "{'temperature': 110, 'materialname_1': 'Sapphire', 'materialname_2': 'Au', 'g': 44700000.0}\n",
      "{'thickness': 6e-08, 'temperature': 110, 'material': <pyFDTR.materials.gold object at 0x7f90689389d0>, 'cp': 2138496.8119520196, 'density': 19300000.0, 'kt': 68.100185845, 'kp': 68.100185845}\n",
      "{'thickness': 0.001, 'temperature': 300, 'material': <pyFDTR.materials.sapphire object at 0x7f9068367370>, 'cp': 3074092.9, 'density': 3970000.0, 'kt': 33.15190107105972, 'kp': 33.15190107105972}\n",
      "{'temperature': 300, 'materialname_1': 'Sapphire', 'materialname_2': 'Au', 'g': 44700000.0}\n",
      "{'thickness': 6e-08, 'temperature': 300, 'material': <pyFDTR.materials.gold object at 0x7f9067e8da20>, 'cp': 2494334.686, 'density': 19300000.0, 'kt': 66.0214005, 'kp': 66.0214005}\n"
     ]
    }
   ],
   "source": [
    "import numpy as np\n",
    "import mpmath\n",
    "from pyFDTR.domain import *\n",
    "from pyFDTR.materials import *\n",
    "from pyFDTR.fouriermodel import *\n",
    "import matplotlib as mpl\n",
    "import matplotlib.pyplot as plt\n",
    "\n",
    "mpmath.mp.dps = 5\n",
    "\n",
    "load = np.genfromtxt('./sapphire-gold60nm_80K.txt',skip_header=2)\n",
    "points80k = np.delete(load,1,1)\n",
    "\n",
    "load = np.genfromtxt('./sapphire-gold60nm_300K.txt',skip_header=2)\n",
    "points300k = np.delete(load,1,1)\n",
    "\n",
    "#frequencies = points300k[:,0]\n",
    "frequencies = [5e3,20e3,50e3,200e3,500e3,1e6,3e6,6e6,10e6,15e6,20e6,40e6]\n",
    "\n",
    "domain = Domain(110)\n",
    "domain.add_substrate(sapphire)\n",
    "domain.add_layer(60e-9,gold)\n",
    "domain.set_interface_condu(1,4.47e7)\n",
    "model = FourierModelFDTR(domain,4.05e-6,4.05e-6)\n",
    "\n",
    "print(vars(domain.heat_path[0]))\n",
    "print(vars(domain.heat_path[1]))\n",
    "print(vars(domain.heat_path[2]))\n",
    "\n",
    "phases_80 = []\n",
    "for f in frequencies:\n",
    "  phases_80.append(model.get_phase(f))\n",
    "\n",
    "domain = Domain(300)\n",
    "domain.add_substrate(sapphire)\n",
    "domain.add_layer(60e-9,gold)\n",
    "domain.set_interface_condu(1,4.47e7)\n",
    "#domain.set_layer_param(1,kt=33.6,kp=33.6)\n",
    "model = FourierModelFDTR(domain,4.05e-6,4.05e-6)\n",
    "\n",
    "print(vars(domain.heat_path[0]))\n",
    "print(vars(domain.heat_path[1]))\n",
    "print(vars(domain.heat_path[2]))\n",
    "\n",
    "phases_300 = []\n",
    "for f in frequencies:\n",
    "  phases_300.append(model.get_phase(f))\n",
    "\n",
    "\n"
   ]
  },
  {
   "cell_type": "code",
   "execution_count": 2,
   "id": "64d49b88",
   "metadata": {},
   "outputs": [],
   "source": [
    "load = np.genfromtxt('./sapphire-gold60nm_80K.txt',skip_header=2)\n",
    "points80k = np.delete(load,1,1)\n",
    "\n",
    "load = np.genfromtxt('./sapphire-gold60nm_300K.txt',skip_header=2)\n",
    "points300k = np.delete(load,1,1)"
   ]
  },
  {
   "cell_type": "code",
   "execution_count": 3,
   "id": "61527ba8",
   "metadata": {},
   "outputs": [
    {
     "data": {
      "text/plain": [
       "array([2.4591435e+03, 3.0236934e+03, 3.7178480e+03, 4.5713609e+03,\n",
       "       5.6208162e+03, 6.9111968e+03, 8.4978124e+03, 1.0448670e+04,\n",
       "       1.2847390e+04, 1.5796787e+04, 1.9423284e+04, 2.3882321e+04,\n",
       "       2.9365027e+04, 3.6106408e+04, 4.4395419e+04, 5.4587353e+04,\n",
       "       6.7119068e+04, 8.2527710e+04, 1.0147374e+05, 1.2476925e+05,\n",
       "       1.5341274e+05, 1.8863197e+05, 2.3193654e+05, 2.8518262e+05,\n",
       "       3.5065250e+05, 4.3115241e+05, 5.3013282e+05, 6.5183634e+05,\n",
       "       8.0147956e+05, 9.8547663e+05, 1.2117142e+06, 1.4898896e+06,\n",
       "       1.8319261e+06, 2.2524846e+06, 2.7695915e+06, 3.4054115e+06,\n",
       "       4.1871977e+06, 5.1484601e+06, 6.3304011e+06, 7.7836824e+06,\n",
       "       9.5705960e+06, 1.1767734e+07, 1.4469274e+07, 1.7791010e+07,\n",
       "       2.1875324e+07, 2.6897280e+07, 3.3072136e+07, 4.0664565e+07,\n",
       "       5.0000000e+07])"
      ]
     },
     "execution_count": 3,
     "metadata": {},
     "output_type": "execute_result"
    }
   ],
   "source": [
    "points300k[:,0]"
   ]
  },
  {
   "cell_type": "code",
   "execution_count": 4,
   "id": "737ac41b",
   "metadata": {},
   "outputs": [
    {
     "data": {
      "text/plain": [
       "<matplotlib.collections.PathCollection at 0x7f9067fd4460>"
      ]
     },
     "execution_count": 4,
     "metadata": {},
     "output_type": "execute_result"
    },
    {
     "data": {
      "image/png": "[encoded data removed]",
      "text/plain": [
       "<Figure size 432x288 with 1 Axes>"
      ]
     },
     "metadata": {
      "needs_background": "light"
     },
     "output_type": "display_data"
    }
   ],
   "source": [
    "fig, ax = plt.subplots()  # Create a figure containing a single axes.\n",
    "ax.semilogx(frequencies, phases_80);  # Plot some data on the axes.\n",
    "ax.semilogx(frequencies, phases_300);  # Plot some data on the axes.\n",
    "ax.scatter(points80k[:,0],points80k[:,1])\n",
    "ax.scatter(points300k[:,0],points300k[:,1])"
   ]
  },
  {
   "cell_type": "code",
   "execution_count": null,
   "id": "57ee00a0",
   "metadata": {},
   "outputs": [],
   "source": []
  }
 ],
 "metadata": {
  "kernelspec": {
   "display_name": "Python 3.10.4 64-bit",
   "language": "python",
   "name": "python3"
  },
  "language_info": {
   "codemirror_mode": {
    "name": "ipython",
    "version": 3
   },
   "file_extension": ".py",
   "mimetype": "text/x-python",
   "name": "python",
   "nbconvert_exporter": "python",
   "pygments_lexer": "ipython3",
   "version": "3.10.4"
  },
  "vscode": {
   "interpreter": {
    "hash": "916dbcbb3f70747c44a77c7bcd40155683ae19c65e1c03b4aa3499c5328201f1"
   }
  }
 },
 "nbformat": 4,
 "nbformat_minor": 5
}
