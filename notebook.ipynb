{
 "cells": [
  {
   "cell_type": "code",
   "execution_count": 4,
   "id": "6724fdbf-d9c3-4d81-8fcc-3ea0062aed8b",
   "metadata": {},
   "outputs": [
    {
     "name": "stdout",
     "output_type": "stream",
     "text": [
      "{'thickness': 0.001, 'temperature': 80, 'material': <pyFDTR.materials.sapphire object at 0x7f4ede961090>, 'cp': 96885.63840000003, 'density': 3970000.0, 'kt': 670.2924687620913, 'kp': 670.2924687620913}\n",
      "{'temperature': 80, 'materialname_1': 'Sapphire', 'materialname_2': 'Au', 'g': 44700000.0}\n",
      "{'thickness': 6e-08, 'temperature': 80, 'material': <pyFDTR.materials.gold object at 0x7f4ede9611b0>, 'cp': 1977922.01038336, 'density': 19300000.0, 'kt': 33.6, 'kp': 33.6}\n",
      "{'thickness': 0.001, 'temperature': 300, 'material': <pyFDTR.materials.sapphire object at 0x7f4edea16d70>, 'cp': 3074092.9, 'density': 3970000.0, 'kt': 33.15190107105972, 'kp': 33.15190107105972}\n",
      "{'temperature': 300, 'materialname_1': 'Sapphire', 'materialname_2': 'Au', 'g': 44700000.0}\n",
      "{'thickness': 6e-08, 'temperature': 300, 'material': <pyFDTR.materials.gold object at 0x7f4ee0df28f0>, 'cp': 2494334.686, 'density': 19300000.0, 'kt': 33.6, 'kp': 33.6}\n"
     ]
    }
   ],
   "source": [
    "import numpy as np\n",
    "import mpmath\n",
    "from pyFDTR.domain import *\n",
    "from pyFDTR.materials import *\n",
    "from pyFDTR.fouriermodel import *\n",
    "import matplotlib as mpl\n",
    "import matplotlib.pyplot as plt\n",
    "\n",
    "mpmath.mp.dps = 15\n",
    "\n",
    "frequencies = [5e3,20e3,50e3,200e3,500e3,1e6,3e6,6e6,10e6,15e6,20e6,40e6]\n",
    "\n",
    "domain = Domain(80)\n",
    "domain.add_substrate(sapphire)\n",
    "domain.add_layer(60e-9,gold)\n",
    "domain.set_interface_condu(1,4.47e7)\n",
    "domain.set_layer_param(1,kt=33.6,kp=33.6)\n",
    "model = FourierModelFDTR(domain,4.05e-6,4.05e-6)\n",
    "\n",
    "print(vars(domain.heat_path[0]))\n",
    "print(vars(domain.heat_path[1]))\n",
    "print(vars(domain.heat_path[2]))\n",
    "\n",
    "phases_80 = []\n",
    "for f in frequencies:\n",
    "  phases_80.append(model.get_phase(f))\n",
    "\n",
    "domain = Domain(300)\n",
    "domain.add_substrate(sapphire)\n",
    "domain.add_layer(60e-9,gold)\n",
    "domain.set_layer_param(1,kt=33.6,kp=33.6)\n",
    "domain.set_interface_condu(1,4.47e7)\n",
    "model = FourierModelFDTR(domain,4.05e-6,4.05e-6)\n",
    "\n",
    "print(vars(domain.heat_path[0]))\n",
    "print(vars(domain.heat_path[1]))\n",
    "print(vars(domain.heat_path[2]))\n",
    "\n",
    "phases_300 = []\n",
    "for f in frequencies:\n",
    "  phases_300.append(model.get_phase(f))\n",
    "\n",
    "\n"
   ]
  },
  {
   "cell_type": "code",
   "execution_count": 5,
   "id": "64d49b88",
   "metadata": {},
   "outputs": [],
   "source": [
    "load = np.genfromtxt('./sapphire-gold60nm_80K.txt',skip_header=2)\n",
    "points80k = np.delete(load,1,1)\n",
    "\n",
    "load = np.genfromtxt('./sapphire-gold60nm_300K.txt',skip_header=2)\n",
    "points300k = np.delete(load,1,1)"
   ]
  },
  {
   "cell_type": "code",
   "execution_count": 6,
   "id": "737ac41b",
   "metadata": {},
   "outputs": [
    {
     "data": {
      "text/plain": [
       "<matplotlib.collections.PathCollection at 0x7f4ee0b22470>"
      ]
     },
     "execution_count": 6,
     "metadata": {},
     "output_type": "execute_result"
    },
    {
     "data": {
      "image/png": "[encoded data removed]",
      "text/plain": [
       "<Figure size 432x288 with 1 Axes>"
      ]
     },
     "metadata": {
      "needs_background": "light"
     },
     "output_type": "display_data"
    }
   ],
   "source": [
    "fig, ax = plt.subplots()  # Create a figure containing a single axes.\n",
    "ax.semilogx(frequencies, phases_80);  # Plot some data on the axes.\n",
    "ax.semilogx(frequencies, phases_300);  # Plot some data on the axes.\n",
    "ax.scatter(points80k[:,0],points80k[:,1])\n",
    "ax.scatter(points300k[:,0],points300k[:,1])"
   ]
  },
  {
   "cell_type": "code",
   "execution_count": null,
   "id": "57ee00a0",
   "metadata": {},
   "outputs": [],
   "source": []
  }
 ],
 "metadata": {
  "kernelspec": {
   "display_name": "Python 3.10.4 64-bit",
   "language": "python",
   "name": "python3"
  },
  "language_info": {
   "codemirror_mode": {
    "name": "ipython",
    "version": 3
   },
   "file_extension": ".py",
   "mimetype": "text/x-python",
   "name": "python",
   "nbconvert_exporter": "python",
   "pygments_lexer": "ipython3",
   "version": "3.10.4"
  },
  "vscode": {
   "interpreter": {
    "hash": "916dbcbb3f70747c44a77c7bcd40155683ae19c65e1c03b4aa3499c5328201f1"
   }
  }
 },
 "nbformat": 4,
 "nbformat_minor": 5
}
