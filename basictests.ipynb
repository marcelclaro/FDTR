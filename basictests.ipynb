{
 "cells": [
  {
   "cell_type": "markdown",
   "metadata": {},
   "source": [
    "Test without beam offset with Au/sapphire at 80K and 300K"
   ]
  },
  {
   "cell_type": "code",
   "execution_count": 5,
   "metadata": {},
   "outputs": [
    {
     "name": "stdout",
     "output_type": "stream",
     "text": [
      "{'thickness': 0.005, 'temperature': 80, 'material': <pyFDTR.materials.sapphire object at 0x7f01b06ace80>, 'cp': 0.09688563840000002, 'density': 3.97, 'kxx': 6.702924687620913, 'kyy': 6.702924687620913, 'kxy': 0, 'kzz': 6.702924687620913}\n",
      "{'temperature': 80, 'materialname_1': 'Sapphire', 'materialname_2': 'Au', 'g': 2000.0}\n",
      "{'thickness': 6e-06, 'temperature': 80, 'material': <pyFDTR.materials.gold object at 0x7f01b08e8ac0>, 'cp': 1.97792201038336, 'density': 19.3, 'kxx': 0.6839953648000001, 'kyy': 0.6839953648000001, 'kxy': 0, 'kzz': 0.6839953648000001}\n",
      "{'thickness': 0.005, 'temperature': 300, 'material': <pyFDTR.materials.sapphire object at 0x7f01f7dd2f50>, 'cp': 3.0740928999999997, 'density': 3.97, 'kxx': 0.3315190107105972, 'kyy': 0.3315190107105972, 'kxy': 0, 'kzz': 0.3315190107105972}\n",
      "{'temperature': 300, 'materialname_1': 'Sapphire', 'materialname_2': 'Au', 'g': 5000.0}\n",
      "{'thickness': 6e-06, 'temperature': 300, 'material': <pyFDTR.materials.gold object at 0x7f01b57aba30>, 'cp': 2.494334686, 'density': 19.3, 'kxx': 0.660214005, 'kyy': 0.660214005, 'kxy': 0, 'kzz': 0.660214005}\n"
     ]
    },
    {
     "data": {
      "text/plain": [
       "<matplotlib.collections.PathCollection at 0x7f01b2ae08e0>"
      ]
     },
     "execution_count": 5,
     "metadata": {},
     "output_type": "execute_result"
    },
    {
     "data": {
      "image/png": "[encoded data removed]",
      "text/plain": [
       "<Figure size 432x288 with 1 Axes>"
      ]
     },
     "metadata": {
      "needs_background": "light"
     },
     "output_type": "display_data"
    }
   ],
   "source": [
    "#import required libraries. You might need to install sympy, mpmath, numpy, scypy, matplotlib etc..\n",
    "#e.g. do it using \"conda install sympy\" (if using conda) or \"pip install sympy\"\n",
    "# \n",
    "# \n",
    "# \n",
    "# Use everthing in cm, like W/cmK. It is necessary to avoid numerical overflow \n",
    "\n",
    "import numpy as np\n",
    "import mpmath\n",
    "from pyFDTR.domain import *\n",
    "from pyFDTR.materials import *\n",
    "from pyFDTR.fouriermodel import *\n",
    "import matplotlib as mpl\n",
    "import matplotlib.pyplot as plt\n",
    "\n",
    "\n",
    "\n",
    "load = np.genfromtxt('./sampledata/sapphire-gold60nm_80K.txt',skip_header=2) #load the exprimental files removing the header\n",
    "points80k = np.delete(load,1,1) #keep only frequency and phase columns\n",
    "\n",
    "load = np.genfromtxt('./sampledata/sapphire-gold60nm_300K.txt',skip_header=2)\n",
    "points300k = np.delete(load,1,1)\n",
    "\n",
    "\n",
    "frequencies = [1e3,5e3,20e3,50e3,200e3,500e3,1e6,3e6,6e6,10e6,15e6,20e6,40e6] #The frequencies to be calculated in the model\n",
    "\n",
    "#Here we define the model\n",
    "domain = Domain(80) #The argument is the temperature: 80K\n",
    "domain.add_substrate(sapphire) #Add a substrate first it has the thickness = 100um, adiabatic boundary conditions are applied, the argument is a material in the library (materilas.py)\n",
    "domain.add_layer(60e-7,gold) #Add the following layers first the thickness (in cm remember...) then the material\n",
    "domain.set_interface_condu(1,2e3) #Set the interface TBC of the interface just created, they a numerated from bottom to top\n",
    "\n",
    "#It is like this:\n",
    "#Surface\n",
    "#Au - 60nm\n",
    "#Interface 1\n",
    "#Substrate\n",
    "\n",
    "#now we create the model\n",
    "model = FourierModelFDTR(domain,4.05e-4,4.05e-4,0) #first the domain object, then pump radius, the probe radius, and the offset between the pump and the probe, default is 0\n",
    "\n",
    "#printing thing to check...\n",
    "print(vars(domain.heat_path[0]))\n",
    "print(vars(domain.heat_path[1]))\n",
    "print(vars(domain.heat_path[2]))\n",
    "\n",
    "#calculate the phase for each frequency\n",
    "phases_80 = []\n",
    "for f in frequencies:\n",
    "  phases_80.append(model.get_phase(f))\n",
    "\n",
    "#lets repeat it for 300K\n",
    "domain = Domain(300)\n",
    "domain.add_substrate(sapphire)\n",
    "domain.add_layer(60e-7,gold)\n",
    "domain.set_interface_condu(1,5e3)\n",
    "#if you want to change the material parameters use set_layer_param like below\n",
    "#domain.set_layer_param(1,kzz=33.6,kxx=33.6)\n",
    "model = FourierModelFDTR(domain,4.05e-4,4.05e-4,0)\n",
    "#layers are also numered from bottom to top\n",
    "\n",
    "print(vars(domain.heat_path[0]))\n",
    "print(vars(domain.heat_path[1]))\n",
    "print(vars(domain.heat_path[2]))\n",
    "\n",
    "phases_300 = []\n",
    "for f in frequencies:\n",
    "  phases_300.append(model.get_phase(f))\n",
    "\n",
    "#matlibplot to plot the results\n",
    "fig, ax = plt.subplots()  # Create a figure containing a single axes.\n",
    "ax.semilogx(frequencies, phases_80);  # Plot calculated values\n",
    "ax.semilogx(frequencies, phases_300);   \n",
    "ax.scatter(points80k[:,0],points80k[:,1]) #plot the experimental\n",
    "ax.scatter(points300k[:,0],points300k[:,1])"
   ]
  },
  {
   "cell_type": "markdown",
   "metadata": {},
   "source": [
    "Test beam offset in Au/Sapphire"
   ]
  },
  {
   "cell_type": "code",
   "execution_count": 4,
   "metadata": {},
   "outputs": [
    {
     "name": "stdout",
     "output_type": "stream",
     "text": [
      "{'thickness': 0.005, 'temperature': 300, 'material': <pyFDTR.materials.sapphire object at 0x7f01b07bbac0>, 'cp': 3.0740928999999997, 'density': 3.97, 'kxx': 0.3315190107105972, 'kyy': 0.3315190107105972, 'kxy': 0, 'kzz': 0.3315190107105972}\n",
      "{'temperature': 300, 'materialname_1': 'Sapphire', 'materialname_2': 'Au', 'g': 5000.0}\n",
      "{'thickness': 6e-06, 'temperature': 300, 'material': <pyFDTR.materials.gold object at 0x7f01b07bb9d0>, 'cp': 2.494334686, 'density': 19.3, 'kxx': 0.660214005, 'kyy': 0.660214005, 'kxy': 0, 'kzz': 0.660214005}\n",
      "{'thickness': 0.005, 'temperature': 300, 'material': <pyFDTR.materials.sapphire object at 0x7f01b569e650>, 'cp': 3.0740928999999997, 'density': 3.97, 'kxx': 0.3315190107105972, 'kyy': 0.3315190107105972, 'kxy': 0, 'kzz': 0.3315190107105972}\n",
      "{'temperature': 300, 'materialname_1': 'Sapphire', 'materialname_2': 'Au', 'g': 5000.0}\n",
      "{'thickness': 6e-06, 'temperature': 300, 'material': <pyFDTR.materials.gold object at 0x7f01b2baa770>, 'cp': 2.494334686, 'density': 19.3, 'kxx': 0.660214005, 'kyy': 0.660214005, 'kxy': 0, 'kzz': 0.660214005}\n"
     ]
    },
    {
     "data": {
      "text/plain": [
       "<matplotlib.collections.PathCollection at 0x7f01b078d120>"
      ]
     },
     "execution_count": 4,
     "metadata": {},
     "output_type": "execute_result"
    },
    {
     "data": {
      "image/png": "[encoded data removed]",
      "text/plain": [
       "<Figure size 432x288 with 1 Axes>"
      ]
     },
     "metadata": {
      "needs_background": "light"
     },
     "output_type": "display_data"
    }
   ],
   "source": [
    "#Just like above with beam offset\n",
    "#The model does not work so well...\n",
    "\n",
    "import numpy as np\n",
    "import mpmath\n",
    "from pyFDTR.domain import *\n",
    "from pyFDTR.materials import *\n",
    "from pyFDTR.fouriermodel import *\n",
    "import matplotlib as mpl\n",
    "import matplotlib.pyplot as plt\n",
    "\n",
    "mpmath.mp.dps = 15\n",
    "\n",
    "load = np.genfromtxt('./sampledata/subs_00um.txt',skip_header=2)\n",
    "points00um = np.delete(load,1,1)\n",
    "\n",
    "load = np.genfromtxt('./sampledata/subs_05um.txt',skip_header=2)\n",
    "points05um = np.delete(load,1,1)\n",
    "\n",
    "#frequencies = points00um[:,0]\n",
    "frequencies = [1e3,5e3,20e3,50e3,100e3,200e3,500e3,750e3,1e6,3e6,6e6,10e6,15e6,20e6,40e6]\n",
    "\n",
    "domain = Domain(300)\n",
    "domain.add_substrate(sapphire)\n",
    "domain.add_layer(60e-7,gold)\n",
    "domain.set_interface_condu(1,5e3)\n",
    "model = FourierModelFDTR(domain,4.05e-4,4.05e-4,0e-4)\n",
    "\n",
    "print(vars(domain.heat_path[0]))\n",
    "print(vars(domain.heat_path[1]))\n",
    "print(vars(domain.heat_path[2]))\n",
    "\n",
    "phases_00 = []\n",
    "for f in frequencies:\n",
    "  phases_00.append(model.get_phase(f))\n",
    "\n",
    "domain = Domain(300)\n",
    "domain.add_substrate(sapphire)\n",
    "domain.add_layer(60e-7,gold)\n",
    "domain.set_interface_condu(1,5e3)\n",
    "model = FourierModelFDTR(domain,5e-4,4.5e-4,5e-4)\n",
    "\n",
    "print(vars(domain.heat_path[0]))\n",
    "print(vars(domain.heat_path[1]))\n",
    "print(vars(domain.heat_path[2]))\n",
    "\n",
    "phases_10 = []\n",
    "for f in frequencies:\n",
    "  phases_10.append(model.get_phase(f))\n",
    "\n",
    "\n",
    "fig, ax = plt.subplots()  # Create a figure containing a single axes.\n",
    "ax.semilogx(frequencies, phases_00);  # Plot some data on the axes.\n",
    "ax.semilogx(frequencies, phases_10);  # Plot some data on the axes.\n",
    "ax.scatter(points00um[:,0],points00um[:,1])\n",
    "ax.scatter(points05um[:,0],points05um[:,1])"
   ]
  },
  {
   "cell_type": "markdown",
   "metadata": {},
   "source": [
    "Test the Liquid cell model. Comparison between air, water and IPA"
   ]
  },
  {
   "cell_type": "code",
   "execution_count": 3,
   "metadata": {},
   "outputs": [
    {
     "name": "stdout",
     "output_type": "stream",
     "text": [
      "{'thickness': 0.005, 'temperature': 300, 'material': <pyFDTR.materials.Air object at 0x7f01b58e7fa0>, 'cp': 0.000879183, 'density': 0.001225, 'kxx': 0.000259, 'kyy': 0.000259, 'kxy': 0, 'kzz': 0.000259}\n",
      "{'temperature': 300, 'materialname_1': 'Air', 'materialname_2': 'Au', 'g': 5000.0}\n",
      "{'thickness': 6e-06, 'temperature': 300, 'material': <pyFDTR.materials.gold object at 0x7f01b58ccee0>, 'cp': 2.494334686, 'density': 19.3, 'kxx': 0.660214005, 'kyy': 0.660214005, 'kxy': 0, 'kzz': 0.660214005}\n",
      "{'thickness': 0.005, 'temperature': 300, 'material': <pyFDTR.materials.Water object at 0x7f01b58cc4f0>, 'cp': 4.18, 'density': 1.0, 'kxx': 0.00598, 'kyy': 0.00598, 'kxy': 0, 'kzz': 0.00598}\n",
      "{'temperature': 300, 'materialname_1': 'Water', 'materialname_2': 'Au', 'g': 5000.0}\n",
      "{'thickness': 6e-06, 'temperature': 300, 'material': <pyFDTR.materials.gold object at 0x7f01b292efe0>, 'cp': 2.494334686, 'density': 19.3, 'kxx': 0.660214005, 'kyy': 0.660214005, 'kxy': 0, 'kzz': 0.660214005}\n"
     ]
    },
    {
     "data": {
      "text/plain": [
       "<matplotlib.collections.PathCollection at 0x7f01b2cf5de0>"
      ]
     },
     "execution_count": 3,
     "metadata": {},
     "output_type": "execute_result"
    },
    {
     "data": {
      "image/png": "[encoded data removed]",
      "text/plain": [
       "<Figure size 432x288 with 1 Axes>"
      ]
     },
     "metadata": {
      "needs_background": "light"
     },
     "output_type": "display_data"
    }
   ],
   "source": [
    "import numpy as np\n",
    "import mpmath\n",
    "from pyFDTR.domain import *\n",
    "from pyFDTR.materials import *\n",
    "from pyFDTR.fouriermodel import *\n",
    "import matplotlib as mpl\n",
    "import matplotlib.pyplot as plt\n",
    "\n",
    "domain = Domain(300)\n",
    "domain.add_substrate(Air)\n",
    "domain.add_layer(60e-7,gold)\n",
    "domain.set_interface_condu(1,5e3)\n",
    "\n",
    "#here we add a layer above the transducer, with is very similar we used before\n",
    "domain.add_toplayer(50e-4,glass) \n",
    "domain.set_top_interface_condu(1,5e3)\n",
    "#Also numered bottom to top\n",
    "model = FourierModelFDTR(domain,5e-4,4.5e-4,0e-4)\n",
    "\n",
    "print(vars(domain.heat_path[0]))\n",
    "print(vars(domain.heat_path[1]))\n",
    "print(vars(domain.heat_path[2]))\n",
    "\n",
    "phases_10 = []\n",
    "for f in frequencies:\n",
    "  phases_10.append(model.get_phase_mpmath(f)) #Sorry, due to numerical issues we need to use mpmath version, which has more numerical precision to avoid round errors and overflow but is slower\n",
    "\n",
    "domain = Domain(300)\n",
    "domain.add_substrate(Water)\n",
    "domain.add_layer(60e-7,gold)\n",
    "domain.set_interface_condu(1,5e3)\n",
    "domain.add_toplayer(50e-4,glass)\n",
    "domain.set_top_interface_condu(1,5e3)\n",
    "model = FourierModelFDTR(domain,5e-4,4.5e-4,0e-4)\n",
    "\n",
    "print(vars(domain.heat_path[0]))\n",
    "print(vars(domain.heat_path[1]))\n",
    "print(vars(domain.heat_path[2]))\n",
    "\n",
    "phases_20 = []\n",
    "for f in frequencies:\n",
    "  phases_20.append(model.get_phase_mpmath(f))\n",
    "\n",
    "\n",
    "load = np.genfromtxt('./sampledata/liquids_air2.txt',skip_header=2)\n",
    "pointsair= np.delete(load,1,1)\n",
    "\n",
    "load = np.genfromtxt('./sampledata/liquids_water.txt',skip_header=2)\n",
    "pointsIPA = np.delete(load,1,1)\n",
    "\n",
    "fig, ax = plt.subplots()  # Create a figure containing a single axes.\n",
    "ax.semilogx(frequencies, phases_10);  # Plot some data on the axes.\n",
    "ax.semilogx(frequencies, phases_20);  # Plot some data on the axes.\n",
    "ax.scatter(pointsair[:,0],pointsair[:,1])\n",
    "ax.scatter(pointsIPA[:,0],pointsIPA [:,1])\n",
    "\n",
    "\n"
   ]
  },
  {
   "cell_type": "markdown",
   "metadata": {},
   "source": [
    "How to fit parameters"
   ]
  },
  {
   "cell_type": "code",
   "execution_count": 8,
   "metadata": {},
   "outputs": [
    {
     "name": "stdout",
     "output_type": "stream",
     "text": [
      "[[Fit Statistics]]\n",
      "    # fitting method   = differential_evolution\n",
      "    # function evals   = 81\n",
      "    # data points      = 5\n",
      "    # variables        = 1\n",
      "    chi-square         = 7.20788579\n",
      "    reduced chi-square = 1.80197145\n",
      "    Akaike info crit   = 3.82868881\n",
      "    Bayesian info crit = 3.43812673\n",
      "##  Warning: uncertainties could not be estimated:\n",
      "    this fitting method does not natively calculate uncertainties\n",
      "    and numdifftools is not installed for lmfit to do this. Use\n",
      "    `pip install numdifftools` for lmfit to estimate uncertainties\n",
      "    with this fitting method.\n",
      "[[Variables]]\n",
      "    kz:  0.27230436 (init = 0.4)\n"
     ]
    }
   ],
   "source": [
    "import numpy as np\n",
    "import mpmath\n",
    "from pyFDTR.domain import *\n",
    "from pyFDTR.materials import *\n",
    "from pyFDTR.fouriermodel import *\n",
    "import matplotlib as mpl\n",
    "import matplotlib.pyplot as plt\n",
    "\n",
    "#We use lmfit library, do not forget to install it too\n",
    "import lmfit\n",
    "from lmfit import minimize, Parameters\n",
    "\n",
    "#define a list of parameters object\n",
    "params = Parameters()\n",
    "#add parameters in the fit (name, starting value, min and max)\n",
    "params.add('kz', value=0.40, min=0.10, max=0.70)\n",
    "\n",
    "\n",
    "load = np.genfromtxt('./sampledata/sapphire-gold60nm_300K.txt',skip_header=2)\n",
    "points300k = np.delete(load,1,1)\n",
    "\n",
    "#Here we define our error function, replace the parameters that you want to vary with params['name'].value\n",
    "def residuals(params,freq,measured):\n",
    "    domain = Domain(300)\n",
    "    domain.add_substrate(sapphire)\n",
    "    domain.add_layer(60e-7,gold)\n",
    "    domain.set_interface_condu(1,5e3)\n",
    "    domain.set_layer_param(0,kzz=params['kz'].value)\n",
    "    model = FourierModelFDTR(domain,4.05e-4,4.05e-4,0)\n",
    "    phase=[]\n",
    "    for i,f in enumerate(freq):\n",
    "        phase.append(model.get_phase(f))\n",
    "    return phase - measured\n",
    "\n",
    "#run the fit and hope for the best\n",
    "#you can reduce the number of points to select frequencies and speed up. In numpy arrays. array[starting:last:step] (e.g. points300k[25::5,0] gets 1 in 5 points in the last 25 points)\n",
    "out = minimize(residuals, params, args=(points300k[25::5,0],points300k[25::5,1]), method='differential_evolution')\n",
    "#different methods not tested yet, find yourself the best one\n",
    "lmfit.report_fit(out)"
   ]
  },
  {
   "cell_type": "code",
   "execution_count": 9,
   "metadata": {},
   "outputs": [
    {
     "data": {
      "text/plain": [
       "431152.41"
      ]
     },
     "execution_count": 9,
     "metadata": {},
     "output_type": "execute_result"
    }
   ],
   "source": [
    "#Using jupyter you can always check the variables values\n",
    "points300k[25,0]"
   ]
  },
  {
   "cell_type": "markdown",
   "metadata": {},
   "source": [
    "Sensitivity"
   ]
  },
  {
   "cell_type": "code",
   "execution_count": 11,
   "metadata": {},
   "outputs": [
    {
     "name": "stdout",
     "output_type": "stream",
     "text": [
      "{'thickness': 0.005, 'temperature': 300, 'material': <pyFDTR.materials.sapphire object at 0x7f01aee37460>, 'cp': 3.0740928999999997, 'density': 3.97, 'kxx': 0.3315190107105972, 'kyy': 0.3315190107105972, 'kxy': 0, 'kzz': 0.3315190107105972}\n",
      "{'temperature': 300, 'materialname_1': 'Sapphire', 'materialname_2': 'Au', 'g': 5000.0}\n",
      "{'thickness': 6e-06, 'temperature': 300, 'material': <pyFDTR.materials.gold object at 0x7f01aefad0c0>, 'cp': 2.494334686, 'density': 19.3, 'kxx': 0.660214005, 'kyy': 0.660214005, 'kxy': 0, 'kzz': 0.660214005}\n",
      "{'thickness': 0.005, 'temperature': 300, 'material': <pyFDTR.materials.sapphire object at 0x7f01b2cc49d0>, 'cp': 3.0740928999999997, 'density': 3.97, 'kxx': 0.3315190107105972, 'kyy': 0.3315190107105972, 'kxy': 0, 'kzz': 0.3315190107105972}\n",
      "{'temperature': 300, 'materialname_1': 'Sapphire', 'materialname_2': 'Au', 'g': 5000.0}\n",
      "{'thickness': 6.6e-06, 'temperature': 300, 'material': <pyFDTR.materials.gold object at 0x7f01aefac940>, 'cp': 2.494334686, 'density': 19.3, 'kxx': 0.660214005, 'kyy': 0.660214005, 'kxy': 0, 'kzz': 0.660214005}\n"
     ]
    },
    {
     "data": {
      "image/png": "[encoded data removed]",
      "text/plain": [
       "<Figure size 432x288 with 1 Axes>"
      ]
     },
     "metadata": {
      "needs_background": "light"
     },
     "output_type": "display_data"
    }
   ],
   "source": [
    "import numpy as np\n",
    "import mpmath\n",
    "from pyFDTR.domain import *\n",
    "from pyFDTR.materials import *\n",
    "from pyFDTR.fouriermodel import *\n",
    "import matplotlib as mpl\n",
    "import matplotlib.pyplot as plt\n",
    "\n",
    "\n",
    "mpmath.mp.dps = 5\n",
    "\n",
    "load = np.genfromtxt('./sampledata/sapphire-gold60nm_80K.txt',skip_header=2)\n",
    "points80k = np.delete(load,1,1)\n",
    "\n",
    "load = np.genfromtxt('./sampledata/sapphire-gold60nm_300K.txt',skip_header=2)\n",
    "points300k = np.delete(load,1,1)\n",
    "\n",
    "frequencies = [1e3,5e3,20e3,50e3,200e3,500e3,1e6,3e6,6e6,10e6,15e6,20e6,40e6]\n",
    "\n",
    "domain = Domain(300)\n",
    "domain.add_substrate(sapphire)\n",
    "domain.add_layer(60e-7,gold)\n",
    "domain.set_interface_condu(1,5e3)\n",
    "model = FourierModelFDTR(domain,4.05e-4,4.05e-4,0)\n",
    "\n",
    "print(vars(domain.heat_path[0]))\n",
    "print(vars(domain.heat_path[1]))\n",
    "print(vars(domain.heat_path[2]))\n",
    "\n",
    "phases_80 = []\n",
    "for f in frequencies:\n",
    "  phases_80.append(model.get_phase(f))\n",
    "\n",
    "domain = Domain(300)\n",
    "domain.add_substrate(sapphire)\n",
    "domain.add_layer(66e-7,gold)\n",
    "domain.set_interface_condu(1,5e3)\n",
    "model = FourierModelFDTR(domain,4.05e-4,4.05e-4,0)\n",
    "\n",
    "print(vars(domain.heat_path[0]))\n",
    "print(vars(domain.heat_path[1]))\n",
    "print(vars(domain.heat_path[2]))\n",
    "\n",
    "phases_300 = []\n",
    "for f in frequencies:\n",
    "  phases_300.append(model.get_phase(f))\n",
    "\n",
    "#Sensitivity is just the difference change that parameter\n",
    "difference = np.array(phases_80)-np.array(phases_300) #converting to nparray just to do the math quickly\n",
    "\n",
    "fig, ax = plt.subplots()  # Create a figure containing a single axes.\n",
    "ax.semilogx(frequencies, difference);  # Plot some data on the axes.\n"
   ]
  },
  {
   "cell_type": "code",
   "execution_count": null,
   "metadata": {},
   "outputs": [],
   "source": []
  }
 ],
 "metadata": {
  "kernelspec": {
   "display_name": "Python 3.10.6 64-bit",
   "language": "python",
   "name": "python3"
  },
  "language_info": {
   "codemirror_mode": {
    "name": "ipython",
    "version": 3
   },
   "file_extension": ".py",
   "mimetype": "text/x-python",
   "name": "python",
   "nbconvert_exporter": "python",
   "pygments_lexer": "ipython3",
   "version": "3.10.6"
  },
  "orig_nbformat": 4,
  "vscode": {
   "interpreter": {
    "hash": "916dbcbb3f70747c44a77c7bcd40155683ae19c65e1c03b4aa3499c5328201f1"
   }
  }
 },
 "nbformat": 4,
 "nbformat_minor": 2
}
