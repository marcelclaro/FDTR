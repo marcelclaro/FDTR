{
 "cells": [
  {
   "cell_type": "markdown",
   "metadata": {},
   "source": [
    "Test without beam offset with Au/sapphire at 80K and 300K"
   ]
  },
  {
   "cell_type": "code",
   "execution_count": 1,
   "metadata": {},
   "outputs": [
    {
     "name": "stdout",
     "output_type": "stream",
     "text": [
      "{'thickness': 0.015, 'temperature': 80, 'material': <pyFDTR.materials.sapphire object at 0x7fe8550cf5e0>, 'cp': 0.09688563840000002, 'density': 3.97, 'kxx': 6.702924687620913, 'kyy': 6.702924687620913, 'kxy': 0, 'kzz': 6.702924687620913}\n",
      "{'temperature': 80, 'materialname_1': 'Sapphire', 'materialname_2': 'Au', 'g': 2000.0}\n",
      "{'thickness': 6e-06, 'temperature': 80, 'material': <pyFDTR.materials.gold object at 0x7fe80d3797b0>, 'cp': 1.97792201038336, 'density': 19.3, 'kxx': 0.6839953648000001, 'kyy': 0.6839953648000001, 'kxy': 0, 'kzz': 0.6839953648000001}\n",
      "{'thickness': 0.015, 'temperature': 300, 'material': <pyFDTR.materials.sapphire object at 0x7fe82998dae0>, 'cp': 3.0740928999999997, 'density': 3.97, 'kxx': 0.3315190107105972, 'kyy': 0.3315190107105972, 'kxy': 0, 'kzz': 0.3315190107105972}\n",
      "{'temperature': 300, 'materialname_1': 'Sapphire', 'materialname_2': 'Au', 'g': 5000.0}\n",
      "{'thickness': 6e-06, 'temperature': 300, 'material': <pyFDTR.materials.gold object at 0x7fe80c2dd270>, 'cp': 2.494334686, 'density': 19.3, 'kxx': 0.660214005, 'kyy': 0.660214005, 'kxy': 0, 'kzz': 0.660214005}\n"
     ]
    },
    {
     "data": {
      "text/plain": [
       "<matplotlib.collections.PathCollection at 0x7fe809e281f0>"
      ]
     },
     "execution_count": 1,
     "metadata": {},
     "output_type": "execute_result"
    },
    {
     "data": {
      "image/png": "[encoded data removed]",
      "text/plain": [
       "<Figure size 432x288 with 1 Axes>"
      ]
     },
     "metadata": {
      "needs_background": "light"
     },
     "output_type": "display_data"
    }
   ],
   "source": [
    "import numpy as np\n",
    "import mpmath\n",
    "from pyFDTR.domain import *\n",
    "from pyFDTR.materials import *\n",
    "from pyFDTR.fouriermodel import *\n",
    "import matplotlib as mpl\n",
    "import matplotlib.pyplot as plt\n",
    "\n",
    "\n",
    "mpmath.mp.dps = 5\n",
    "\n",
    "load = np.genfromtxt('./sapphire-gold60nm_80K.txt',skip_header=2)\n",
    "points80k = np.delete(load,1,1)\n",
    "\n",
    "load = np.genfromtxt('./sapphire-gold60nm_300K.txt',skip_header=2)\n",
    "points300k = np.delete(load,1,1)\n",
    "\n",
    "#frequencies = points300k[:,0]\n",
    "frequencies = [1e3,5e3,20e3,50e3,200e3,500e3,1e6,3e6,6e6,10e6,15e6,20e6,40e6]\n",
    "\n",
    "domain = Domain(80)\n",
    "domain.add_substrate(sapphire)\n",
    "domain.add_layer(60e-7,gold)\n",
    "domain.set_interface_condu(1,2e3)\n",
    "model = FourierModelFDTR(domain,4.05e-4,4.05e-4,0)\n",
    "\n",
    "print(vars(domain.heat_path[0]))\n",
    "print(vars(domain.heat_path[1]))\n",
    "print(vars(domain.heat_path[2]))\n",
    "\n",
    "phases_80 = []\n",
    "for f in frequencies:\n",
    "  phases_80.append(model.get_phase(f))\n",
    "\n",
    "domain = Domain(300)\n",
    "domain.add_substrate(sapphire)\n",
    "domain.add_layer(60e-7,gold)\n",
    "domain.set_interface_condu(1,5e3)\n",
    "#domain.set_layer_param(1,kt=33.6,kp=33.6)\n",
    "model = FourierModelFDTR(domain,4.05e-4,4.05e-4,0)\n",
    "\n",
    "print(vars(domain.heat_path[0]))\n",
    "print(vars(domain.heat_path[1]))\n",
    "print(vars(domain.heat_path[2]))\n",
    "\n",
    "phases_300 = []\n",
    "for f in frequencies:\n",
    "  phases_300.append(model.get_phase(f))\n",
    "\n",
    "load = np.genfromtxt('./sapphire-gold60nm_80K.txt',skip_header=2)\n",
    "points80k = np.delete(load,1,1)\n",
    "\n",
    "load = np.genfromtxt('./sapphire-gold60nm_300K.txt',skip_header=2)\n",
    "points300k = np.delete(load,1,1)\n",
    "\n",
    "fig, ax = plt.subplots()  # Create a figure containing a single axes.\n",
    "ax.semilogx(frequencies, phases_80);  # Plot some data on the axes.\n",
    "ax.semilogx(frequencies, phases_300);  # Plot some data on the axes.\n",
    "ax.scatter(points80k[:,0],points80k[:,1])\n",
    "ax.scatter(points300k[:,0],points300k[:,1])"
   ]
  },
  {
   "cell_type": "markdown",
   "metadata": {},
   "source": [
    "Test beam offset in Au/Sapphire"
   ]
  },
  {
   "cell_type": "code",
   "execution_count": 1,
   "metadata": {},
   "outputs": [
    {
     "name": "stdout",
     "output_type": "stream",
     "text": [
      "{'thickness': 0.01, 'temperature': 300, 'material': <pyFDTR.materials.sapphire object at 0x7fba98db75e0>, 'cp': 3.0740928999999997, 'density': 3.97, 'kxx': 0.3315190107105972, 'kyy': 0.3315190107105972, 'kxy': 0, 'kzz': 0.3315190107105972}\n",
      "{'temperature': 300, 'materialname_1': 'Sapphire', 'materialname_2': 'Au', 'g': 5000.0}\n",
      "{'thickness': 6e-06, 'temperature': 300, 'material': <pyFDTR.materials.gold object at 0x7fba63f49210>, 'cp': 2.494334686, 'density': 19.3, 'kxx': 0.660214005, 'kyy': 0.660214005, 'kxy': 0, 'kzz': 0.660214005}\n",
      "{'thickness': 0.01, 'temperature': 300, 'material': <pyFDTR.materials.sapphire object at 0x7fba7641d540>, 'cp': 3.0740928999999997, 'density': 3.97, 'kxx': 0.3315190107105972, 'kyy': 0.3315190107105972, 'kxy': 0, 'kzz': 0.3315190107105972}\n",
      "{'temperature': 300, 'materialname_1': 'Sapphire', 'materialname_2': 'Au', 'g': 5000.0}\n",
      "{'thickness': 6e-06, 'temperature': 300, 'material': <pyFDTR.materials.gold object at 0x7fba62f6ee30>, 'cp': 2.494334686, 'density': 19.3, 'kxx': 0.660214005, 'kyy': 0.660214005, 'kxy': 0, 'kzz': 0.660214005}\n"
     ]
    },
    {
     "data": {
      "text/plain": [
       "<matplotlib.collections.PathCollection at 0x7fba6303ac50>"
      ]
     },
     "execution_count": 1,
     "metadata": {},
     "output_type": "execute_result"
    },
    {
     "data": {
      "image/png": "[encoded data removed]",
      "text/plain": [
       "<Figure size 432x288 with 1 Axes>"
      ]
     },
     "metadata": {
      "needs_background": "light"
     },
     "output_type": "display_data"
    }
   ],
   "source": [
    "import numpy as np\n",
    "import mpmath\n",
    "from pyFDTR.domain import *\n",
    "from pyFDTR.materials import *\n",
    "from pyFDTR.fouriermodel import *\n",
    "import matplotlib as mpl\n",
    "import matplotlib.pyplot as plt\n",
    "\n",
    "mpmath.mp.dps = 15\n",
    "\n",
    "load = np.genfromtxt('./subs_00um.txt',skip_header=2)\n",
    "points00um = np.delete(load,1,1)\n",
    "\n",
    "load = np.genfromtxt('./subs_05um.txt',skip_header=2)\n",
    "points05um = np.delete(load,1,1)\n",
    "\n",
    "#frequencies = points00um[:,0]\n",
    "frequencies = [1e3,5e3,20e3,50e3,100e3,200e3,500e3,750e3,1e6,3e6,6e6,10e6,15e6,20e6,40e6]\n",
    "\n",
    "domain = Domain(300)\n",
    "domain.add_substrate(sapphire)\n",
    "domain.add_layer(60e-7,gold)\n",
    "domain.set_interface_condu(1,5e3)\n",
    "model = FourierModelFDTR(domain,4.05e-4,4.05e-4,0e-4)\n",
    "\n",
    "print(vars(domain.heat_path[0]))\n",
    "print(vars(domain.heat_path[1]))\n",
    "print(vars(domain.heat_path[2]))\n",
    "\n",
    "phases_00 = []\n",
    "for f in frequencies:\n",
    "  phases_00.append(model.get_phase(f))\n",
    "\n",
    "domain = Domain(300)\n",
    "domain.add_substrate(sapphire)\n",
    "domain.add_layer(60e-7,gold)\n",
    "domain.set_interface_condu(1,5e3)\n",
    "model = FourierModelFDTR(domain,4.05e-4,4.05e-4,5e-4)\n",
    "\n",
    "print(vars(domain.heat_path[0]))\n",
    "print(vars(domain.heat_path[1]))\n",
    "print(vars(domain.heat_path[2]))\n",
    "\n",
    "phases_10 = []\n",
    "for f in frequencies:\n",
    "  phases_10.append(model.get_phase(f))\n",
    "\n",
    "\n",
    "fig, ax = plt.subplots()  # Create a figure containing a single axes.\n",
    "ax.semilogx(frequencies, phases_00);  # Plot some data on the axes.\n",
    "ax.semilogx(frequencies, phases_10);  # Plot some data on the axes.\n",
    "ax.scatter(points00um[:,0],points00um[:,1])\n",
    "ax.scatter(points05um[:,0],points05um[:,1])"
   ]
  },
  {
   "cell_type": "markdown",
   "metadata": {},
   "source": [
    "Test the Liquid cell model. Comparison between air, water and IPA"
   ]
  },
  {
   "cell_type": "code",
   "execution_count": 3,
   "metadata": {},
   "outputs": [
    {
     "name": "stdout",
     "output_type": "stream",
     "text": [
      "{'thickness': 0.01, 'temperature': 300, 'material': <pyFDTR.materials.Water object at 0x7fba60872bf0>, 'cp': 4.18, 'density': 1.0, 'kxx': 0.00598, 'kyy': 0.00598, 'kxy': 0, 'kzz': 0.00598}\n",
      "{'temperature': 300, 'materialname_1': 'Water', 'materialname_2': 'Au', 'g': 5000.0}\n",
      "{'thickness': 6e-06, 'temperature': 300, 'material': <pyFDTR.materials.gold object at 0x7fba609b6800>, 'cp': 2.494334686, 'density': 19.3, 'kxx': 0.660214005, 'kyy': 0.660214005, 'kxy': 0, 'kzz': 0.660214005}\n",
      "{'thickness': 0.01, 'temperature': 300, 'material': <pyFDTR.materials.Air object at 0x7fba62fb51e0>, 'cp': 0.000879183, 'density': 0.001225, 'kxx': 0.000259, 'kyy': 0.000259, 'kxy': 0, 'kzz': 0.000259}\n",
      "{'temperature': 300, 'materialname_1': 'Air', 'materialname_2': 'Au', 'g': 5000.0}\n",
      "{'thickness': 6e-06, 'temperature': 300, 'material': <pyFDTR.materials.gold object at 0x7fba608aa860>, 'cp': 2.494334686, 'density': 19.3, 'kxx': 0.660214005, 'kyy': 0.660214005, 'kxy': 0, 'kzz': 0.660214005}\n",
      "{'thickness': 0.01, 'temperature': 300, 'material': <pyFDTR.materials.IPA object at 0x7fba6051ac20>, 'cp': 2.1, 'density': 0.786, 'kxx': 0.0013700000000000001, 'kyy': 0.0013700000000000001, 'kxy': 0, 'kzz': 0.0013700000000000001}\n",
      "{'temperature': 300, 'materialname_1': 'IPA', 'materialname_2': 'Au', 'g': 5000.0}\n",
      "{'thickness': 6e-06, 'temperature': 300, 'material': <pyFDTR.materials.gold object at 0x7fba607e46d0>, 'cp': 2.494334686, 'density': 19.3, 'kxx': 0.660214005, 'kyy': 0.660214005, 'kxy': 0, 'kzz': 0.660214005}\n"
     ]
    },
    {
     "data": {
      "image/png": "[encoded data removed]",
      "text/plain": [
       "<Figure size 432x288 with 1 Axes>"
      ]
     },
     "metadata": {
      "needs_background": "light"
     },
     "output_type": "display_data"
    }
   ],
   "source": [
    "import numpy as np\n",
    "import mpmath\n",
    "from pyFDTR.domain import *\n",
    "from pyFDTR.materials import *\n",
    "from pyFDTR.fouriermodel import *\n",
    "import matplotlib as mpl\n",
    "import matplotlib.pyplot as plt\n",
    "\n",
    "#frequencies = points00um[:,0]\n",
    "frequencies = [5e3,20e3,50e3,100e3,200e3,500e3,750e3,1e6,3e6,6e6,10e6,15e6,20e6,40e6]\n",
    "\n",
    "domain = Domain(300)\n",
    "domain.add_substrate(Water)\n",
    "domain.add_layer(60e-7,gold)\n",
    "domain.set_interface_condu(1,5e3)\n",
    "domain.add_toplayer(100e-4,glass)\n",
    "domain.set_top_interface_condu(1,5e3)\n",
    "model = FourierModelFDTR(domain,4.05e-4,4.05e-4,0e-4)\n",
    "\n",
    "print(vars(domain.heat_path[0]))\n",
    "print(vars(domain.heat_path[1]))\n",
    "print(vars(domain.heat_path[2]))\n",
    "\n",
    "phases_00 = []\n",
    "for f in frequencies:\n",
    "  phases_00.append(model.get_phase_mpmath(f))\n",
    "\n",
    "\n",
    "domain = Domain(300)\n",
    "domain.add_substrate(Air)\n",
    "domain.add_layer(60e-7,gold)\n",
    "domain.set_interface_condu(1,5e3)\n",
    "domain.add_toplayer(100e-4,glass)\n",
    "domain.set_top_interface_condu(1,5e3)\n",
    "model = FourierModelFDTR(domain,4.05e-4,4.05e-4,0e-4)\n",
    "\n",
    "print(vars(domain.heat_path[0]))\n",
    "print(vars(domain.heat_path[1]))\n",
    "print(vars(domain.heat_path[2]))\n",
    "\n",
    "phases_10 = []\n",
    "for f in frequencies:\n",
    "  phases_10.append(model.get_phase_mpmath(f))\n",
    "\n",
    "domain = Domain(300)\n",
    "domain.add_substrate(IPA)\n",
    "domain.add_layer(60e-7,gold)\n",
    "domain.set_interface_condu(1,5e3)\n",
    "domain.add_toplayer(100e-4,glass)\n",
    "domain.set_top_interface_condu(1,5e3)\n",
    "model = FourierModelFDTR(domain,4.05e-4,4.05e-4,0e-4)\n",
    "\n",
    "print(vars(domain.heat_path[0]))\n",
    "print(vars(domain.heat_path[1]))\n",
    "print(vars(domain.heat_path[2]))\n",
    "\n",
    "phases_20 = []\n",
    "for f in frequencies:\n",
    "  phases_20.append(model.get_phase_mpmath(f))\n",
    "\n",
    "fig, ax = plt.subplots()  # Create a figure containing a single axes.\n",
    "ax.semilogx(frequencies, phases_00);  # Plot some data on the axes.\n",
    "ax.semilogx(frequencies, phases_10);  # Plot some data on the axes.\n",
    "ax.semilogx(frequencies, phases_20);  # Plot some data on the axes.\n",
    "\n",
    "\n"
   ]
  },
  {
   "cell_type": "code",
   "execution_count": null,
   "metadata": {},
   "outputs": [],
   "source": []
  }
 ],
 "metadata": {
  "kernelspec": {
   "display_name": "Python 3.10.6 64-bit",
   "language": "python",
   "name": "python3"
  },
  "language_info": {
   "codemirror_mode": {
    "name": "ipython",
    "version": 3
   },
   "file_extension": ".py",
   "mimetype": "text/x-python",
   "name": "python",
   "nbconvert_exporter": "python",
   "pygments_lexer": "ipython3",
   "version": "3.10.6"
  },
  "orig_nbformat": 4,
  "vscode": {
   "interpreter": {
    "hash": "916dbcbb3f70747c44a77c7bcd40155683ae19c65e1c03b4aa3499c5328201f1"
   }
  }
 },
 "nbformat": 4,
 "nbformat_minor": 2
}
